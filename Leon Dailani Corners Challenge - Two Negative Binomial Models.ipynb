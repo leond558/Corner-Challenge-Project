{
 "cells": [
  {
   "cell_type": "markdown",
   "id": "2900c0d0",
   "metadata": {},
   "source": [
    "# Leon Dailani Corners Challenge - Two Negative Binomial Models\n",
    "\n",
    "The following notebook constitutes my submission to the Mustard Systems' Corners Challenge. I am using a Jupyter Notebook to clearly demonstrate the code and data manipulation that I've decided to undertake and also to give me the opoprtunity to more thorughly explain my decision making process.\n",
    "\n",
    "## Summary Question Answers:\n",
    "\n",
    "1)\n",
    "\n",
    "I've fitted two GLMs using a negative binomial distribution with a logarithmic link function to predict home and away corners separately. This bivariate approach produced models with the lowest relative AIC scores and the best mean squared error. The distribution of the corners was assumed to follow a negative binomial since they are discrete count data but exhibit overdispersion (variance greater than the mean), meaning a Poisson distribution would be inappropriate. I plotted a histogram of the data and used a QQ plot to determine this.\n",
    "\n",
    "Feature selection for the model was conducted using a Random Forest to determine feature importance. I separated the Data column into DayOfWeek, Month, and Year column entries that could be used to gauge whether corners showed seasonal dependence. I also created a PastGoalsAvg feature, which was the combined total historical average goals scored by both teams. This feature showed strong importance, likely as it's indicative of how aggressive a team's playstyle is. The more goals historically scored by a team on average, the more aggressively it is likely to play, and thus the more corners it is likely to win. The Month was also shown to be a good predictor; this may be because of increased pressure placed on teams towards the end of the league. Teams in title contention may play more aggressively and gain more corners in the spring/summer months when goal difference or a small number of points separates them from the title or a Champions League spot. PastGoalsAvg was used as a float, and seasonal/matchup data as categorical. The GLM was useful here in enabling the combination of multiple data types.\n",
    "\n",
    "2)\n",
    "\n",
    "The probability of being under/at/over the supplied line was determined by using the predicted mean total corners from the match and using that as the negative binomial parameter. CDF and PMF were then used to populate the probability columns.\n",
    "\n",
    "3)\n",
    "\n",
    "I decided to take a bet on the match based on the expected value. The bet with the greater expected value was preferred. The staking amount was determined using the Kelly Criterion.\n",
    "\n",
    "\n",
    "Improvements in the future:\n",
    "\n",
    "The model seems to really prefer the under bet. I think this might be an issue with the way I have implemented the negative binomial model by assuming the dispersion factor. This is a bit of quirk with the python package that I used so it might be easier do to this in R in the future. I could have tried using just a standard bivariate poisson ditribution to see if that is better or I could've tried some more advanced discrete distributions. I could've tried cutting/using more features for these different distributions and seen which one models the corners better.\n",
    "\n",
    "Of course, more data/features would've most likely been useful.\n",
    "\n",
    "I am not entirely sure whether my implementation of the Kelly Criterion is correct and whether my bankroll caluclations are appropriate either.\n"
   ]
  },
  {
   "cell_type": "markdown",
   "id": "80526aa8",
   "metadata": {},
   "source": [
    "## Step 1: Data Exploration and Distribution of Target Variable\n",
    "\n",
    "The first step to tackling the challenge involves investigating the data. To do this, I will set up the necessary notebook environment through importing the necessary librarires and loading the data. I will then examine the data and have a look at the distributions in order to gain an understanding of the potential relationships between the variables."
   ]
  },
  {
   "cell_type": "code",
   "execution_count": 1,
   "id": "90e46a62",
   "metadata": {},
   "outputs": [],
   "source": [
    "# Importing necessary quantiative analysis python modules\n",
    "import pandas as pd \n",
    "import numpy as np\n",
    "import matplotlib.pyplot as plt\n",
    "import scipy.stats as st\n",
    "import seaborn as sns\n",
    "\n",
    "\n",
    "# Settings for better readability in the notebook\n",
    "pd.set_option('display.max_columns', None)\n",
    "pd.set_option('display.float_format', lambda x: '%.2f' % x)\n",
    "sns.set(style=\"whitegrid\")"
   ]
  },
  {
   "cell_type": "code",
   "execution_count": 2,
   "id": "e4c4cbe6",
   "metadata": {},
   "outputs": [],
   "source": [
    "# Import data as pandas dataframes from their original csv format\n",
    "# The test and train csv files are stored in the same directory as the notebook\n",
    "\n",
    "test_df = pd.read_csv(\"test (15).csv\")\n",
    "train_df = pd.read_csv(\"train (15).csv\")"
   ]
  },
  {
   "cell_type": "code",
   "execution_count": 3,
   "id": "06900949",
   "metadata": {},
   "outputs": [
    {
     "data": {
      "text/html": [
       "<div>\n",
       "<style scoped>\n",
       "    .dataframe tbody tr th:only-of-type {\n",
       "        vertical-align: middle;\n",
       "    }\n",
       "\n",
       "    .dataframe tbody tr th {\n",
       "        vertical-align: top;\n",
       "    }\n",
       "\n",
       "    .dataframe thead th {\n",
       "        text-align: right;\n",
       "    }\n",
       "</style>\n",
       "<table border=\"1\" class=\"dataframe\">\n",
       "  <thead>\n",
       "    <tr style=\"text-align: right;\">\n",
       "      <th></th>\n",
       "      <th>MatchId</th>\n",
       "      <th>LeagueId</th>\n",
       "      <th>Date</th>\n",
       "      <th>HomeTeamId</th>\n",
       "      <th>AwayTeamId</th>\n",
       "      <th>Home_Goals</th>\n",
       "      <th>Away_Goals</th>\n",
       "      <th>Home_Corners</th>\n",
       "      <th>Away_Corners</th>\n",
       "    </tr>\n",
       "  </thead>\n",
       "  <tbody>\n",
       "    <tr>\n",
       "      <th>0</th>\n",
       "      <td>2826</td>\n",
       "      <td>793</td>\n",
       "      <td>02/04/2005</td>\n",
       "      <td>410</td>\n",
       "      <td>908</td>\n",
       "      <td>2.00</td>\n",
       "      <td>0.00</td>\n",
       "      <td>15</td>\n",
       "      <td>1</td>\n",
       "    </tr>\n",
       "    <tr>\n",
       "      <th>1</th>\n",
       "      <td>2827</td>\n",
       "      <td>793</td>\n",
       "      <td>02/04/2005</td>\n",
       "      <td>338</td>\n",
       "      <td>597</td>\n",
       "      <td>3.00</td>\n",
       "      <td>2.00</td>\n",
       "      <td>3</td>\n",
       "      <td>6</td>\n",
       "    </tr>\n",
       "    <tr>\n",
       "      <th>2</th>\n",
       "      <td>2828</td>\n",
       "      <td>793</td>\n",
       "      <td>02/04/2005</td>\n",
       "      <td>1364</td>\n",
       "      <td>246</td>\n",
       "      <td>2.00</td>\n",
       "      <td>3.00</td>\n",
       "      <td>13</td>\n",
       "      <td>2</td>\n",
       "    </tr>\n",
       "    <tr>\n",
       "      <th>3</th>\n",
       "      <td>2829</td>\n",
       "      <td>793</td>\n",
       "      <td>02/04/2005</td>\n",
       "      <td>1088</td>\n",
       "      <td>1397</td>\n",
       "      <td>1.00</td>\n",
       "      <td>0.00</td>\n",
       "      <td>2</td>\n",
       "      <td>5</td>\n",
       "    </tr>\n",
       "    <tr>\n",
       "      <th>4</th>\n",
       "      <td>2830</td>\n",
       "      <td>793</td>\n",
       "      <td>02/04/2005</td>\n",
       "      <td>830</td>\n",
       "      <td>1412</td>\n",
       "      <td>2.00</td>\n",
       "      <td>3.00</td>\n",
       "      <td>3</td>\n",
       "      <td>6</td>\n",
       "    </tr>\n",
       "  </tbody>\n",
       "</table>\n",
       "</div>"
      ],
      "text/plain": [
       "   MatchId  LeagueId        Date  HomeTeamId  AwayTeamId  Home_Goals  \\\n",
       "0     2826       793  02/04/2005         410         908        2.00   \n",
       "1     2827       793  02/04/2005         338         597        3.00   \n",
       "2     2828       793  02/04/2005        1364         246        2.00   \n",
       "3     2829       793  02/04/2005        1088        1397        1.00   \n",
       "4     2830       793  02/04/2005         830        1412        2.00   \n",
       "\n",
       "   Away_Goals  Home_Corners  Away_Corners  \n",
       "0        0.00            15             1  \n",
       "1        2.00             3             6  \n",
       "2        3.00            13             2  \n",
       "3        0.00             2             5  \n",
       "4        3.00             3             6  "
      ]
     },
     "execution_count": 3,
     "metadata": {},
     "output_type": "execute_result"
    }
   ],
   "source": [
    "# Taking a look at the first few rows of the training data\n",
    "train_df.head()"
   ]
  },
  {
   "cell_type": "markdown",
   "id": "baef38be",
   "metadata": {},
   "source": [
    "Can see from the table that the following information is present:\n",
    "\n",
    "- a unique MatchId\n",
    "- a LeagueId which relates to which sports league the football game was played in\n",
    "- a Date for when the match is played\n",
    "- a unique HomeTeamId and AwayTeamId that uniquely identifies the different teams playing in the match and is consistent in other matches they play\n",
    "- Home_Goals and Away_Goals which gives the number of goals scored by the home and away teams respectively \n",
    "- Home_Corners and Away_Corners which gives the number of corners attained by the home and away team respectively"
   ]
  },
  {
   "cell_type": "markdown",
   "id": "f597b7dd",
   "metadata": {},
   "source": [
    "First it is important to clean the data: checking for any null / missing values and cleaning them accordingly"
   ]
  },
  {
   "cell_type": "code",
   "execution_count": 4,
   "id": "ac7027f9",
   "metadata": {},
   "outputs": [
    {
     "name": "stdout",
     "output_type": "stream",
     "text": [
      "<class 'pandas.core.frame.DataFrame'>\n",
      "RangeIndex: 23830 entries, 0 to 23829\n",
      "Data columns (total 9 columns):\n",
      " #   Column        Non-Null Count  Dtype  \n",
      "---  ------        --------------  -----  \n",
      " 0   MatchId       23830 non-null  int64  \n",
      " 1   LeagueId      23830 non-null  int64  \n",
      " 2   Date          23830 non-null  object \n",
      " 3   HomeTeamId    23830 non-null  int64  \n",
      " 4   AwayTeamId    23830 non-null  int64  \n",
      " 5   Home_Goals    23822 non-null  float64\n",
      " 6   Away_Goals    23822 non-null  float64\n",
      " 7   Home_Corners  23830 non-null  int64  \n",
      " 8   Away_Corners  23830 non-null  int64  \n",
      "dtypes: float64(2), int64(6), object(1)\n",
      "memory usage: 1.6+ MB\n"
     ]
    }
   ],
   "source": [
    "train_df.info()"
   ]
  },
  {
   "cell_type": "code",
   "execution_count": 5,
   "id": "c947a29d",
   "metadata": {},
   "outputs": [
    {
     "data": {
      "text/plain": [
       "MatchId         0\n",
       "LeagueId        0\n",
       "Date            0\n",
       "HomeTeamId      0\n",
       "AwayTeamId      0\n",
       "Home_Goals      8\n",
       "Away_Goals      8\n",
       "Home_Corners    0\n",
       "Away_Corners    0\n",
       "dtype: int64"
      ]
     },
     "execution_count": 5,
     "metadata": {},
     "output_type": "execute_result"
    }
   ],
   "source": [
    "train_df.isnull().sum()"
   ]
  },
  {
   "cell_type": "markdown",
   "id": "0bcfd6d4",
   "metadata": {},
   "source": [
    "We can see that there are 8 match records with null values for their goals. As there is a lot of data present, we can comfortably just remove these 8 recrds without loss of predictive power."
   ]
  },
  {
   "cell_type": "code",
   "execution_count": 6,
   "id": "28d26aa0",
   "metadata": {},
   "outputs": [],
   "source": [
    "# Dropping rows with missing values\n",
    "train_df.dropna(inplace=True)"
   ]
  },
  {
   "cell_type": "code",
   "execution_count": 7,
   "id": "c8128da4",
   "metadata": {},
   "outputs": [
    {
     "data": {
      "text/plain": [
       "MatchId           int64\n",
       "LeagueId          int64\n",
       "Date             object\n",
       "HomeTeamId        int64\n",
       "AwayTeamId        int64\n",
       "Home_Goals      float64\n",
       "Away_Goals      float64\n",
       "Home_Corners      int64\n",
       "Away_Corners      int64\n",
       "dtype: object"
      ]
     },
     "execution_count": 7,
     "metadata": {},
     "output_type": "execute_result"
    }
   ],
   "source": [
    "train_df.dtypes"
   ]
  },
  {
   "cell_type": "markdown",
   "id": "91f54874",
   "metadata": {},
   "source": [
    "Next, let's look at the distribution of the target variables. Since we are interested in predicting the number of corners, let's examine the distribution of these counts. \n",
    "\n",
    "Given that corners are a form of integer count data ranging from 0 to a reasonably small number, the current working assumption is that the data will be distributed like a poisson distribution.Indeed, a poisson distribution is a discrete probability distributoin that describes the probability of the number of events within a specific time period (90 minutes for a football game) with a known average rate of occcurence. It's a good assumption to make that corners follow this distribution:\n",
    "\n",
    "P(x)=$\\frac{e^{-\\lambda}\\lambda^x}{x!} , \\lambda >0$\n",
    "\n",
    "However, in reality the corners could show variance greater of less than the mean signifying a perfect poisson distribution is not followed. Dispersion could be caused by team strategy, the refs or weather which would all mean that the number of corners would be more variable than predicted by a poisson distribution."
   ]
  },
  {
   "cell_type": "code",
   "execution_count": 8,
   "id": "f4687843",
   "metadata": {},
   "outputs": [
    {
     "name": "stdout",
     "output_type": "stream",
     "text": [
      "Home Corners Mean: 5.725841658970699, Variance: 8.087925438677539\n",
      "Away Corners Mean: 4.493493409453446, Variance: 6.276667288462503\n"
     ]
    }
   ],
   "source": [
    "# Calculate mean and variance for Home and Away Corners\n",
    "home_corners_mean = train_df['Home_Corners'].mean()\n",
    "home_corners_variance = train_df['Home_Corners'].var()\n",
    "\n",
    "away_corners_mean = train_df['Away_Corners'].mean()\n",
    "away_corners_variance = train_df['Away_Corners'].var()\n",
    "\n",
    "print(f\"Home Corners Mean: {home_corners_mean}, Variance: {home_corners_variance}\")\n",
    "print(f\"Away Corners Mean: {away_corners_mean}, Variance: {away_corners_variance}\")"
   ]
  },
  {
   "cell_type": "markdown",
   "id": "c058cadb",
   "metadata": {},
   "source": [
    "Looking at the mean and standard deviation, we can see that we have over-dispersion of corners. In this case, it would be useful to model corners using a negative binomial distribution which introduces an extra parameter than poisson. that allows for the variance to be greater than the mean."
   ]
  },
  {
   "cell_type": "code",
   "execution_count": 9,
   "id": "fc636819",
   "metadata": {},
   "outputs": [
    {
     "data": {
      "image/png": "[encoded data removed]",
      "text/plain": [
       "<Figure size 1400x700 with 2 Axes>"
      ]
     },
     "metadata": {},
     "output_type": "display_data"
    }
   ],
   "source": [
    "# Distribution of home and away corners as a histogram\n",
    "# overlaying a negative binomial distribution onto it\n",
    "\n",
    "# Estimate parameters for negative binomial distribution\n",
    "# r is the number of successes, p is the probability of success\n",
    "r_home = home_corners_mean**2 / (home_corners_variance - home_corners_mean)\n",
    "p_home = home_corners_mean / home_corners_variance\n",
    "r_away = away_corners_mean**2 / (away_corners_variance - away_corners_mean)\n",
    "p_away = away_corners_mean / away_corners_variance\n",
    "\n",
    "# defining a domain for the poisson pmf and defining it\n",
    "x_home = np.arange(0,train_df['Home_Corners'].max()+1)\n",
    "nbinom_pmf_home = st.nbinom.pmf(x_home, r_home, p_home)\n",
    "x_away = np.arange(0,train_df['Away_Corners'].max()+1)\n",
    "nbinom_pmf_away = st.nbinom.pmf(x_away, r_away, p_away)\n",
    "\n",
    "# plot the histogram and negative binomial distribution onto each other\n",
    "\n",
    "plt.figure(figsize=(14, 7))\n",
    "plt.subplot(1, 2, 1)\n",
    "sns.histplot(train_df['Home_Corners'], bins=20, kde=False, stat='density', label='Empirical Data')\n",
    "plt.plot(x_home, nbinom_pmf_home, 'o-', label='Negative Binomial PMF', color = 'red')\n",
    "plt.title('Distribution of Home Corners')\n",
    "plt.legend()\n",
    "\n",
    "plt.subplot(1, 2, 2)\n",
    "sns.histplot(train_df['Away_Corners'], bins=20, kde=False, stat='density', label='Empirical Data')\n",
    "plt.plot(x_away, nbinom_pmf_away, 'o-', label='Negative Binomial PMF', color='red')\n",
    "plt.title('Distribution of Away Corners')\n",
    "\n",
    "plt.legend()\n",
    "plt.show()\n"
   ]
  },
  {
   "cell_type": "markdown",
   "id": "09218eee",
   "metadata": {},
   "source": [
    "For a poisson distribution, the variance should equal the mean. This is approximately the case here and this is reinforced when looking at the histogram plot of the empirical corner data against the poisson distribution with lambda parameters equal to the means of the home and away goals.\n",
    "\n",
    "The corner count needed to be converted to density to account for the poisson being a porbability distribution. Can see a good level of agreement between the poisson distribution and the dataset.\n",
    "\n",
    "Let's verify this distribution another way."
   ]
  },
  {
   "cell_type": "code",
   "execution_count": 10,
   "id": "9bc281cb",
   "metadata": {},
   "outputs": [
    {
     "data": {
      "image/png": "[encoded data removed]",
      "text/plain": [
       "<Figure size 1500x800 with 2 Axes>"
      ]
     },
     "metadata": {},
     "output_type": "display_data"
    }
   ],
   "source": [
    "from scipy.stats import probplot\n",
    "\n",
    "# Generate a Q-Q plot for the Home Corners\n",
    "fig = plt.figure(figsize = (15, 8))\n",
    "ax1 = fig.add_subplot(2, 2, 1)\n",
    "probplot(train_df['Home_Corners'], dist=\"nbinom\", sparams=(r_home,p_home), plot=ax1)\n",
    "ax1.set_title('Q-Q Plot for Home Corners vs. Poisson distribution')\n",
    "\n",
    "# Do the same for the Away Corners\n",
    "ax2 = fig.add_subplot(2, 2, 2)\n",
    "probplot(train_df['Away_Corners'], dist=\"nbinom\", sparams=(r_away,p_away), plot=ax2)\n",
    "ax2.set_title('Q-Q Plot for Away Corners vs. Poisson distribution')\n",
    "plt.show()\n"
   ]
  },
  {
   "cell_type": "markdown",
   "id": "34e4c0f1",
   "metadata": {},
   "source": [
    "A Q-Q plot compares the quantiles of the empirical data to the quantiles of the theoretical poisson dstribution. The plots above show good agreement between the thery and the data."
   ]
  },
  {
   "cell_type": "markdown",
   "id": "5e3afe40",
   "metadata": {},
   "source": [
    "## Step 2: Feature Engineering and Data Preprocessing\n",
    "\n",
    "We must ensure that data is is the right format by performing prreprocessing and then we can isolate features from the data to improve model performance such as team-specific historical performance, league-specific averages and seasonality."
   ]
  },
  {
   "cell_type": "code",
   "execution_count": 11,
   "id": "ccf4b67b",
   "metadata": {},
   "outputs": [],
   "source": [
    "# Create a new column for total corners\n",
    "# train_df['Total_Corners'] = train_df['Home_Corners'] + train_df['Away_Corners']"
   ]
  },
  {
   "cell_type": "code",
   "execution_count": 12,
   "id": "73c5185f",
   "metadata": {},
   "outputs": [],
   "source": [
    "# Let's ensure they are treated as categorical for any operations that require it.\n",
    "for col in ['LeagueId', 'HomeTeamId', 'AwayTeamId']:\n",
    "    train_df[col] = train_df[col].astype('category')\n",
    "    test_df[col] = test_df[col].astype('category')"
   ]
  },
  {
   "cell_type": "code",
   "execution_count": 13,
   "id": "a8dea3e0",
   "metadata": {},
   "outputs": [],
   "source": [
    "# The date can capture trends and seasonaity which could be predictive of the number of corners\n",
    "train_df['Date'] = pd.to_datetime(train_df['Date'], dayfirst=True)\n",
    "# Extract date features and create new columns for it\n",
    "train_df['Year'] = train_df['Date'].dt.year\n",
    "train_df['Month'] = train_df['Date'].dt.month\n",
    "train_df['DayOfWeek'] = train_df['Date'].dt.dayofweek\n",
    "\n",
    "test_df['Date'] = pd.to_datetime(test_df['Date'],dayfirst=True)\n",
    "test_df['Year'] = test_df['Date'].dt.year\n",
    "test_df['Month'] = test_df['Date'].dt.month\n",
    "test_df['DayOfWeek'] = test_df['Date'].dt.dayofweek \n",
    "\n"
   ]
  },
  {
   "cell_type": "markdown",
   "id": "6c78b8ce",
   "metadata": {},
   "source": [
    "Goals cannot be used as a predictor in the model as these are not known for future games, however, they are likely to have a big predictive power when used as an indicator of team strength/ playstyle. A team that historically scores more goals is likely to have a more offensive playstyle and thus score more corners too."
   ]
  },
  {
   "cell_type": "code",
   "execution_count": 14,
   "id": "bf0fb7c2",
   "metadata": {},
   "outputs": [
    {
     "name": "stderr",
     "output_type": "stream",
     "text": [
      "/var/folders/gp/7rlcs1qs55g_8dls4p0r9dlc0000gn/T/ipykernel_71112/1868888751.py:2: FutureWarning: The default of observed=False is deprecated and will be changed to True in a future version of pandas. Pass observed=False to retain current behavior or observed=True to adopt the future default and silence this warning.\n",
      "  home_goals_avg = train_df.groupby('HomeTeamId')['Home_Goals'].mean().to_dict()\n",
      "/var/folders/gp/7rlcs1qs55g_8dls4p0r9dlc0000gn/T/ipykernel_71112/1868888751.py:3: FutureWarning: The default of observed=False is deprecated and will be changed to True in a future version of pandas. Pass observed=False to retain current behavior or observed=True to adopt the future default and silence this warning.\n",
      "  away_goals_avg = train_df.groupby('AwayTeamId')['Away_Goals'].mean().to_dict()\n"
     ]
    }
   ],
   "source": [
    "# Calculate the historical average goals scored for home and away teams\n",
    "home_goals_avg = train_df.groupby('HomeTeamId')['Home_Goals'].mean().to_dict()\n",
    "away_goals_avg = train_df.groupby('AwayTeamId')['Away_Goals'].mean().to_dict()\n",
    "\n",
    "# Create new features for the average goals for the home and away teams\n",
    "train_df['HomeTeamGoalsAvg'] = train_df['HomeTeamId'].map(home_goals_avg)\n",
    "train_df['AwayTeamGoalsAvg'] = train_df['AwayTeamId'].map(away_goals_avg)\n",
    "\n",
    "# Add it to the test_df\n",
    "test_df['HomeTeamGoalsAvg'] = test_df['HomeTeamId'].map(home_goals_avg)\n",
    "test_df['AwayTeamGoalsAvg'] = test_df['AwayTeamId'].map(away_goals_avg)\n"
   ]
  },
  {
   "cell_type": "code",
   "execution_count": 15,
   "id": "6b9f497d",
   "metadata": {},
   "outputs": [
    {
     "data": {
      "text/html": [
       "<div>\n",
       "<style scoped>\n",
       "    .dataframe tbody tr th:only-of-type {\n",
       "        vertical-align: middle;\n",
       "    }\n",
       "\n",
       "    .dataframe tbody tr th {\n",
       "        vertical-align: top;\n",
       "    }\n",
       "\n",
       "    .dataframe thead th {\n",
       "        text-align: right;\n",
       "    }\n",
       "</style>\n",
       "<table border=\"1\" class=\"dataframe\">\n",
       "  <thead>\n",
       "    <tr style=\"text-align: right;\">\n",
       "      <th></th>\n",
       "      <th>MatchId</th>\n",
       "      <th>LeagueId</th>\n",
       "      <th>Date</th>\n",
       "      <th>HomeTeamId</th>\n",
       "      <th>AwayTeamId</th>\n",
       "      <th>Home_Goals</th>\n",
       "      <th>Away_Goals</th>\n",
       "      <th>Home_Corners</th>\n",
       "      <th>Away_Corners</th>\n",
       "      <th>Year</th>\n",
       "      <th>Month</th>\n",
       "      <th>DayOfWeek</th>\n",
       "      <th>HomeTeamGoalsAvg</th>\n",
       "      <th>AwayTeamGoalsAvg</th>\n",
       "    </tr>\n",
       "  </thead>\n",
       "  <tbody>\n",
       "    <tr>\n",
       "      <th>0</th>\n",
       "      <td>2826</td>\n",
       "      <td>793</td>\n",
       "      <td>2005-04-02</td>\n",
       "      <td>410</td>\n",
       "      <td>908</td>\n",
       "      <td>2.00</td>\n",
       "      <td>0.00</td>\n",
       "      <td>15</td>\n",
       "      <td>1</td>\n",
       "      <td>2005</td>\n",
       "      <td>4</td>\n",
       "      <td>5</td>\n",
       "      <td>1.33</td>\n",
       "      <td>1.20</td>\n",
       "    </tr>\n",
       "    <tr>\n",
       "      <th>1</th>\n",
       "      <td>2827</td>\n",
       "      <td>793</td>\n",
       "      <td>2005-04-02</td>\n",
       "      <td>338</td>\n",
       "      <td>597</td>\n",
       "      <td>3.00</td>\n",
       "      <td>2.00</td>\n",
       "      <td>3</td>\n",
       "      <td>6</td>\n",
       "      <td>2005</td>\n",
       "      <td>4</td>\n",
       "      <td>5</td>\n",
       "      <td>1.32</td>\n",
       "      <td>0.99</td>\n",
       "    </tr>\n",
       "    <tr>\n",
       "      <th>2</th>\n",
       "      <td>2828</td>\n",
       "      <td>793</td>\n",
       "      <td>2005-04-02</td>\n",
       "      <td>1364</td>\n",
       "      <td>246</td>\n",
       "      <td>2.00</td>\n",
       "      <td>3.00</td>\n",
       "      <td>13</td>\n",
       "      <td>2</td>\n",
       "      <td>2005</td>\n",
       "      <td>4</td>\n",
       "      <td>5</td>\n",
       "      <td>1.70</td>\n",
       "      <td>1.03</td>\n",
       "    </tr>\n",
       "    <tr>\n",
       "      <th>3</th>\n",
       "      <td>2829</td>\n",
       "      <td>793</td>\n",
       "      <td>2005-04-02</td>\n",
       "      <td>1088</td>\n",
       "      <td>1397</td>\n",
       "      <td>1.00</td>\n",
       "      <td>0.00</td>\n",
       "      <td>2</td>\n",
       "      <td>5</td>\n",
       "      <td>2005</td>\n",
       "      <td>4</td>\n",
       "      <td>5</td>\n",
       "      <td>1.53</td>\n",
       "      <td>0.95</td>\n",
       "    </tr>\n",
       "    <tr>\n",
       "      <th>4</th>\n",
       "      <td>2830</td>\n",
       "      <td>793</td>\n",
       "      <td>2005-04-02</td>\n",
       "      <td>830</td>\n",
       "      <td>1412</td>\n",
       "      <td>2.00</td>\n",
       "      <td>3.00</td>\n",
       "      <td>3</td>\n",
       "      <td>6</td>\n",
       "      <td>2005</td>\n",
       "      <td>4</td>\n",
       "      <td>5</td>\n",
       "      <td>1.31</td>\n",
       "      <td>1.33</td>\n",
       "    </tr>\n",
       "  </tbody>\n",
       "</table>\n",
       "</div>"
      ],
      "text/plain": [
       "   MatchId LeagueId       Date HomeTeamId AwayTeamId  Home_Goals  Away_Goals  \\\n",
       "0     2826      793 2005-04-02        410        908        2.00        0.00   \n",
       "1     2827      793 2005-04-02        338        597        3.00        2.00   \n",
       "2     2828      793 2005-04-02       1364        246        2.00        3.00   \n",
       "3     2829      793 2005-04-02       1088       1397        1.00        0.00   \n",
       "4     2830      793 2005-04-02        830       1412        2.00        3.00   \n",
       "\n",
       "   Home_Corners  Away_Corners  Year  Month  DayOfWeek  HomeTeamGoalsAvg  \\\n",
       "0            15             1  2005      4          5              1.33   \n",
       "1             3             6  2005      4          5              1.32   \n",
       "2            13             2  2005      4          5              1.70   \n",
       "3             2             5  2005      4          5              1.53   \n",
       "4             3             6  2005      4          5              1.31   \n",
       "\n",
       "   AwayTeamGoalsAvg  \n",
       "0              1.20  \n",
       "1              0.99  \n",
       "2              1.03  \n",
       "3              0.95  \n",
       "4              1.33  "
      ]
     },
     "execution_count": 15,
     "metadata": {},
     "output_type": "execute_result"
    }
   ],
   "source": [
    "train_df.head()"
   ]
  },
  {
   "cell_type": "markdown",
   "id": "78a18016",
   "metadata": {},
   "source": [
    "## Step 3: Feature selection\n",
    "\n",
    "Before constructing a model, it is necessary to first identify the predictor variables that are to be used in the model.\n",
    "\n",
    "There are multiple different ways of identifying good features for a model but I am going to take a tree-based model approach using Random Forests. This technique can be used to estimate feature importance by minimising impurity when combining features. For a regression model as would be needed for prediciting corners, the impurity to minimsie is variance.\n",
    "\n",
    "It is first important to split the dataset into a training subset to train the model and a test subset to validate the model. This is important to prevent overfitting and to allow model testing.\n"
   ]
  },
  {
   "cell_type": "markdown",
   "id": "cda90bf5",
   "metadata": {},
   "source": [
    "### Fitting a model first for home corners"
   ]
  },
  {
   "cell_type": "code",
   "execution_count": 16,
   "id": "9d7d22f0",
   "metadata": {},
   "outputs": [],
   "source": [
    "from sklearn.model_selection import train_test_split\n",
    "\n",
    "\n",
    "# Define the features (X) and the target (y)\n",
    "# Dropping non-predictive and target columns\n",
    "# Goals cannot be used as a predictor as we won't know these for a future game\n",
    "# Year cannot be used as a predictor as the model won't know how to handle future years\n",
    "X = train_df.drop(['MatchId', 'Date','Home_Corners','Away_Corners','Home_Goals','Away_Goals','Year'], axis=1)  \n",
    "y = train_df['Home_Corners']\n",
    "\n",
    "# Split the data into training and validation sets\n",
    "X_train, X_valid, y_train, y_valid = train_test_split(X, y, test_size=0.2, random_state=4)\n"
   ]
  },
  {
   "cell_type": "code",
   "execution_count": 17,
   "id": "be7cbed9",
   "metadata": {},
   "outputs": [
    {
     "data": {
      "image/png": "[encoded data removed]",
      "text/plain": [
       "<Figure size 1200x600 with 1 Axes>"
      ]
     },
     "metadata": {},
     "output_type": "display_data"
    }
   ],
   "source": [
    "from sklearn.ensemble import RandomForestRegressor\n",
    "from sklearn.feature_selection import SelectFromModel\n",
    "\n",
    "# Fit a Random Forest to the data\n",
    "rf = RandomForestRegressor(n_estimators=100,random_state=4)\n",
    "rf.fit(X_train, y_train)\n",
    "\n",
    "# Get feature importances\n",
    "importances = rf.feature_importances_\n",
    "\n",
    "# Convert the importances into a DataFrame\n",
    "feature_importance_df = pd.DataFrame({'Feature': X_train.columns, 'Importance': importances})\n",
    "\n",
    "# Plot feature importances\n",
    "feature_importance_df.sort_values(by='Importance', ascending=False, inplace=True)\n",
    "plt.figure(figsize=(12, 6))\n",
    "sns.barplot(x='Importance', y='Feature', data=feature_importance_df)\n",
    "plt.title('Feature Importance')\n",
    "plt.show()\n"
   ]
  },
  {
   "cell_type": "markdown",
   "id": "2318b2cf",
   "metadata": {},
   "source": [
    "Here we have ranked the most important features as determined by the random forest and can see that which home and away teams play are the most important predictors for total number of corners.\n",
    "\n",
    "We can now use this feature importance to select for the best set of features. There are many ways to select features from importance values but I am going to use an approach of selecting features that have an importance above the mean importance."
   ]
  },
  {
   "cell_type": "code",
   "execution_count": 18,
   "id": "4e6c5e55",
   "metadata": {},
   "outputs": [
    {
     "data": {
      "text/html": [
       "<div>\n",
       "<style scoped>\n",
       "    .dataframe tbody tr th:only-of-type {\n",
       "        vertical-align: middle;\n",
       "    }\n",
       "\n",
       "    .dataframe tbody tr th {\n",
       "        vertical-align: top;\n",
       "    }\n",
       "\n",
       "    .dataframe thead th {\n",
       "        text-align: right;\n",
       "    }\n",
       "</style>\n",
       "<table border=\"1\" class=\"dataframe\">\n",
       "  <thead>\n",
       "    <tr style=\"text-align: right;\">\n",
       "      <th></th>\n",
       "      <th>Feature</th>\n",
       "      <th>Importance</th>\n",
       "    </tr>\n",
       "  </thead>\n",
       "  <tbody>\n",
       "    <tr>\n",
       "      <th>3</th>\n",
       "      <td>Month</td>\n",
       "      <td>0.20</td>\n",
       "    </tr>\n",
       "    <tr>\n",
       "      <th>6</th>\n",
       "      <td>AwayTeamGoalsAvg</td>\n",
       "      <td>0.19</td>\n",
       "    </tr>\n",
       "    <tr>\n",
       "      <th>2</th>\n",
       "      <td>AwayTeamId</td>\n",
       "      <td>0.18</td>\n",
       "    </tr>\n",
       "    <tr>\n",
       "      <th>5</th>\n",
       "      <td>HomeTeamGoalsAvg</td>\n",
       "      <td>0.15</td>\n",
       "    </tr>\n",
       "    <tr>\n",
       "      <th>1</th>\n",
       "      <td>HomeTeamId</td>\n",
       "      <td>0.14</td>\n",
       "    </tr>\n",
       "  </tbody>\n",
       "</table>\n",
       "</div>"
      ],
      "text/plain": [
       "            Feature  Importance\n",
       "3             Month        0.20\n",
       "6  AwayTeamGoalsAvg        0.19\n",
       "2        AwayTeamId        0.18\n",
       "5  HomeTeamGoalsAvg        0.15\n",
       "1        HomeTeamId        0.14"
      ]
     },
     "execution_count": 18,
     "metadata": {},
     "output_type": "execute_result"
    }
   ],
   "source": [
    "selected_feature_df = feature_importance_df[feature_importance_df['Importance'] > 0.1]\n",
    "selected_feature_df"
   ]
  },
  {
   "cell_type": "markdown",
   "id": "29287661",
   "metadata": {},
   "source": [
    "We must remeber that for predicting future corners, we won't have future goals so we have to remove those features from consideration. Hence, we select HomeTeamId, AwayTeamId and Month, DayOfWeek."
   ]
  },
  {
   "cell_type": "code",
   "execution_count": 19,
   "id": "b8a95e17",
   "metadata": {},
   "outputs": [
    {
     "data": {
      "text/html": [
       "<div>\n",
       "<style scoped>\n",
       "    .dataframe tbody tr th:only-of-type {\n",
       "        vertical-align: middle;\n",
       "    }\n",
       "\n",
       "    .dataframe tbody tr th {\n",
       "        vertical-align: top;\n",
       "    }\n",
       "\n",
       "    .dataframe thead th {\n",
       "        text-align: right;\n",
       "    }\n",
       "</style>\n",
       "<table border=\"1\" class=\"dataframe\">\n",
       "  <thead>\n",
       "    <tr style=\"text-align: right;\">\n",
       "      <th></th>\n",
       "      <th>Month</th>\n",
       "      <th>AwayTeamGoalsAvg</th>\n",
       "      <th>AwayTeamId</th>\n",
       "      <th>HomeTeamGoalsAvg</th>\n",
       "      <th>HomeTeamId</th>\n",
       "    </tr>\n",
       "  </thead>\n",
       "  <tbody>\n",
       "    <tr>\n",
       "      <th>18822</th>\n",
       "      <td>11</td>\n",
       "      <td>0.78</td>\n",
       "      <td>1194</td>\n",
       "      <td>1.31</td>\n",
       "      <td>1222</td>\n",
       "    </tr>\n",
       "    <tr>\n",
       "      <th>4524</th>\n",
       "      <td>8</td>\n",
       "      <td>0.94</td>\n",
       "      <td>526</td>\n",
       "      <td>1.55</td>\n",
       "      <td>442</td>\n",
       "    </tr>\n",
       "    <tr>\n",
       "      <th>7156</th>\n",
       "      <td>6</td>\n",
       "      <td>1.16</td>\n",
       "      <td>916</td>\n",
       "      <td>1.71</td>\n",
       "      <td>489</td>\n",
       "    </tr>\n",
       "    <tr>\n",
       "      <th>19342</th>\n",
       "      <td>3</td>\n",
       "      <td>0.88</td>\n",
       "      <td>1251</td>\n",
       "      <td>1.29</td>\n",
       "      <td>861</td>\n",
       "    </tr>\n",
       "    <tr>\n",
       "      <th>12046</th>\n",
       "      <td>7</td>\n",
       "      <td>0.86</td>\n",
       "      <td>345</td>\n",
       "      <td>1.16</td>\n",
       "      <td>353</td>\n",
       "    </tr>\n",
       "    <tr>\n",
       "      <th>...</th>\n",
       "      <td>...</td>\n",
       "      <td>...</td>\n",
       "      <td>...</td>\n",
       "      <td>...</td>\n",
       "      <td>...</td>\n",
       "    </tr>\n",
       "    <tr>\n",
       "      <th>11863</th>\n",
       "      <td>7</td>\n",
       "      <td>1.06</td>\n",
       "      <td>410</td>\n",
       "      <td>1.84</td>\n",
       "      <td>1740</td>\n",
       "    </tr>\n",
       "    <tr>\n",
       "      <th>22407</th>\n",
       "      <td>9</td>\n",
       "      <td>0.55</td>\n",
       "      <td>5501</td>\n",
       "      <td>0.90</td>\n",
       "      <td>4832</td>\n",
       "    </tr>\n",
       "    <tr>\n",
       "      <th>17093</th>\n",
       "      <td>8</td>\n",
       "      <td>1.60</td>\n",
       "      <td>216</td>\n",
       "      <td>2.15</td>\n",
       "      <td>324</td>\n",
       "    </tr>\n",
       "    <tr>\n",
       "      <th>8366</th>\n",
       "      <td>9</td>\n",
       "      <td>1.04</td>\n",
       "      <td>1386</td>\n",
       "      <td>1.47</td>\n",
       "      <td>232</td>\n",
       "    </tr>\n",
       "    <tr>\n",
       "      <th>17530</th>\n",
       "      <td>9</td>\n",
       "      <td>1.25</td>\n",
       "      <td>1171</td>\n",
       "      <td>1.42</td>\n",
       "      <td>526</td>\n",
       "    </tr>\n",
       "  </tbody>\n",
       "</table>\n",
       "<p>19057 rows × 5 columns</p>\n",
       "</div>"
      ],
      "text/plain": [
       "       Month  AwayTeamGoalsAvg AwayTeamId  HomeTeamGoalsAvg HomeTeamId\n",
       "18822     11              0.78       1194              1.31       1222\n",
       "4524       8              0.94        526              1.55        442\n",
       "7156       6              1.16        916              1.71        489\n",
       "19342      3              0.88       1251              1.29        861\n",
       "12046      7              0.86        345              1.16        353\n",
       "...      ...               ...        ...               ...        ...\n",
       "11863      7              1.06        410              1.84       1740\n",
       "22407      9              0.55       5501              0.90       4832\n",
       "17093      8              1.60        216              2.15        324\n",
       "8366       9              1.04       1386              1.47        232\n",
       "17530      9              1.25       1171              1.42        526\n",
       "\n",
       "[19057 rows x 5 columns]"
      ]
     },
     "execution_count": 19,
     "metadata": {},
     "output_type": "execute_result"
    }
   ],
   "source": [
    "# Defining a variable containing the list of selected features\n",
    "selected_features = list(selected_feature_df['Feature'])\n",
    "# selected_features = list(feature_importance_df['Feature'])\n",
    "selected_features\n",
    "X_train = X_train[selected_features]\n",
    "X_valid = X_valid[selected_features]\n",
    "X_train"
   ]
  },
  {
   "cell_type": "markdown",
   "id": "8ce0010a",
   "metadata": {},
   "source": [
    "## Step 4: Model Building\n",
    "\n",
    "To build the model I will use a GLM as it is capable of simultaneously handling differing data types. I will use a negative binomial distribution."
   ]
  },
  {
   "cell_type": "markdown",
   "id": "d655f804",
   "metadata": {},
   "source": [
    "Now that we have selected these features, it is important to prepare the test_df accordingly so that it mirrors the feature space of the training data."
   ]
  },
  {
   "cell_type": "code",
   "execution_count": 20,
   "id": "ddb7557c",
   "metadata": {},
   "outputs": [],
   "source": [
    "import statsmodels.api as sm\n",
    "import os\n",
    "from statsmodels.formula.api import glm\n",
    "from statsmodels.genmod.families import NegativeBinomial\n",
    "import pickle\n",
    "\n",
    "# Convert categorical variables to string type for the formula interface\n",
    "X_train[['Month','AwayTeamId','HomeTeamId']] = X_train[['Month','AwayTeamId','HomeTeamId']].astype(str)\n",
    "X_valid[['Month','AwayTeamId','HomeTeamId']] = X_valid[['Month','AwayTeamId','HomeTeamId']].astype(str)\n",
    "\n",
    "# Create the formula string for the regression model\n",
    "formula_str = 'Home_Corners ~ ' + ' + '.join(X_train.columns)\n",
    "\n",
    "# Path to the model file\n",
    "model_path = 'home_corner_model_new.pkl'\n",
    "# Check if the model file exists\n",
    "if os.path.exists(model_path):\n",
    "    with open(model_path, 'rb') as file:\n",
    "        home_corner_model = pickle.load(file)\n",
    "else:\n",
    "\n",
    "    # Fit the model with the training set as before\n",
    "    home_corner_model = glm(formula=formula_str, data=X_train.join(y_train), family=NegativeBinomial()).fit()\n",
    "    with open(model_path, 'wb') as file: \n",
    "        pickle.dump(home_corner_model, file)\n"
   ]
  },
  {
   "cell_type": "code",
   "execution_count": 21,
   "id": "d2bfe20b",
   "metadata": {},
   "outputs": [],
   "source": [
    "X_valid['prediction'] = home_corner_model.predict(X_valid)"
   ]
  },
  {
   "cell_type": "code",
   "execution_count": 22,
   "id": "8ba0a78b",
   "metadata": {},
   "outputs": [
    {
     "name": "stdout",
     "output_type": "stream",
     "text": [
      "Mean Absolute Error: 2.210130106000131\n",
      "Mean Squared Error: 8.17554306474492\n"
     ]
    }
   ],
   "source": [
    "from sklearn.metrics import mean_squared_error\n",
    "from sklearn.metrics import mean_absolute_error\n",
    "\n",
    "mae = mean_absolute_error(y_valid, X_valid['prediction'])\n",
    "print(f'Mean Absolute Error: {mae}')\n",
    "\n",
    "mse = mean_squared_error(y_valid, X_valid['prediction'])\n",
    "print(f'Mean Squared Error: {mse}')\n"
   ]
  },
  {
   "cell_type": "markdown",
   "id": "174d8f51",
   "metadata": {},
   "source": [
    "Repeating the same for an away corner model:"
   ]
  },
  {
   "cell_type": "code",
   "execution_count": 23,
   "id": "16d5a39f",
   "metadata": {},
   "outputs": [
    {
     "data": {
      "image/png": "[encoded data removed]",
      "text/plain": [
       "<Figure size 1200x600 with 1 Axes>"
      ]
     },
     "metadata": {},
     "output_type": "display_data"
    }
   ],
   "source": [
    "# Away corner model\n",
    "\n",
    "# Define the features (X) and the target (y)\n",
    "# Dropping non-predictive and target columns\n",
    "# Goals cannot be used as a predictor as we won't know these for a future game\n",
    "# Year cannot be used as a predictor as the model won't know how to handle future years\n",
    "X = train_df.drop(['MatchId', 'Date','Home_Corners','Away_Corners','Home_Goals','Away_Goals','Year'], axis=1)  \n",
    "y = train_df['Away_Corners']\n",
    "\n",
    "# Split the data into training and validation sets\n",
    "X_train, X_valid, y_train, y_valid = train_test_split(X, y, test_size=0.2, random_state=4)\n",
    "\n",
    "\n",
    "# Fit a Random Forest to the data\n",
    "rf = RandomForestRegressor(n_estimators=100,random_state=4)\n",
    "rf.fit(X_train, y_train)\n",
    "\n",
    "# Get feature importances\n",
    "importances = rf.feature_importances_\n",
    "\n",
    "# Convert the importances into a DataFrame\n",
    "feature_importance_df = pd.DataFrame({'Feature': X_train.columns, 'Importance': importances})\n",
    "\n",
    "# Plot feature importances\n",
    "feature_importance_df.sort_values(by='Importance', ascending=False, inplace=True)\n",
    "plt.figure(figsize=(12, 6))\n",
    "sns.barplot(x='Importance', y='Feature', data=feature_importance_df)\n",
    "plt.title('Feature Importance')\n",
    "\n",
    "selected_feature_df = feature_importance_df[feature_importance_df['Importance'] > 0.1]\n",
    "selected_features = list(selected_feature_df['Feature'])\n",
    "X_train = X_train[selected_features]\n",
    "X_valid = X_valid[selected_features]\n",
    "\n",
    "# Convert categorical variables to string type for the formula interface\n",
    "X_train[['Month','AwayTeamId','HomeTeamId']] = X_train[['Month','AwayTeamId','HomeTeamId']].astype(str)\n",
    "X_valid[['Month','AwayTeamId','HomeTeamId']] = X_valid[['Month','AwayTeamId','HomeTeamId']].astype(str)\n",
    "\n",
    "# Create the formula string for the regression model\n",
    "formula_str = 'Away_Corners ~ ' + ' + '.join(X_train.columns)\n",
    "\n",
    "# Path to the model file\n",
    "model_path = 'away_corner_model_new.pkl'\n",
    "# Check if the model file exists\n",
    "if os.path.exists(model_path):\n",
    "    with open(model_path, 'rb') as file:\n",
    "        away_corner_model = pickle.load(file)\n",
    "else:\n",
    "\n",
    "    # Fit the model with the training set as before\n",
    "    away_corner_model = glm(formula=formula_str, data=X_train.join(y_train), family=NegativeBinomial()).fit()\n",
    "    with open(model_path, 'wb') as file: \n",
    "        pickle.dump(away_corner_model, file)\n"
   ]
  },
  {
   "cell_type": "code",
   "execution_count": 24,
   "id": "2f2f59fc",
   "metadata": {},
   "outputs": [
    {
     "name": "stdout",
     "output_type": "stream",
     "text": [
      "Mean Absolute Error: 1.8939397348204743\n",
      "Mean Squared Error: 5.7403156261610455\n"
     ]
    }
   ],
   "source": [
    "X_valid['prediction'] = away_corner_model.predict(X_valid)\n",
    "mae = mean_absolute_error(y_valid, X_valid['prediction'])\n",
    "print(f'Mean Absolute Error: {mae}')\n",
    "\n",
    "mse = mean_squared_error(y_valid, X_valid['prediction'])\n",
    "print(f'Mean Squared Error: {mse}')"
   ]
  },
  {
   "cell_type": "markdown",
   "id": "792f2498",
   "metadata": {},
   "source": [
    "## Step 5: Predicting Corners\n",
    "\n",
    "To calculate the probabilities $P(Under), P(At), and P(Over)$ for the test set, I will need to consider the distribution of predicted total corners from your model.These can be calculated using a pmf and cdf of the negative binomial distribution.\n",
    "\n",
    "The CDF will give  the probability of observing a number of corners less than or equal to the line (which is used to calculate $P(Under)  and P(Over)$, and the PMF gives $P(At)$.\n",
    "\n",
    "First, we must prepare the test_df and add the predicted number of corners from the model."
   ]
  },
  {
   "cell_type": "code",
   "execution_count": 25,
   "id": "105e1838",
   "metadata": {},
   "outputs": [],
   "source": [
    "test_df[['Month','AwayTeamId','HomeTeamId']] = test_df[['Month','AwayTeamId','HomeTeamId']].astype(str)\n",
    "test_df = test_df.drop('Unnamed: 8',axis=1)"
   ]
  },
  {
   "cell_type": "code",
   "execution_count": 26,
   "id": "69d2b10b",
   "metadata": {},
   "outputs": [],
   "source": [
    "test_df['AwayCornerPredict'] = away_corner_model.predict(test_df[selected_features])\n",
    "test_df['HomeCornerPredict'] = home_corner_model.predict(test_df[selected_features])\n",
    "test_df['TotalCornerPredict'] = test_df['AwayCornerPredict'] + test_df['HomeCornerPredict']"
   ]
  },
  {
   "cell_type": "markdown",
   "id": "4d32b731",
   "metadata": {},
   "source": [
    "Then, we must gather the relevant parameters for the negative binomial model in order to establish the probabilities using a cdf and pmf. These parameters come from the definition of a negative binomial model."
   ]
  },
  {
   "cell_type": "code",
   "execution_count": 27,
   "id": "5018de7e",
   "metadata": {},
   "outputs": [],
   "source": [
    "# The dispersion parameter 'alpha' can be estimated from the model:\n",
    "alpha = home_corner_model.scale\n",
    "predicted_means = test_df['TotalCornerPredict']\n",
    "# The variance of the negative binomial distribution can be calculated fr\n",
    "predicted_variances = predicted_means + alpha * predicted_means**2\n",
    "# Now, to find 'n' and 'p', you can use the mean and variance formulas fo\n",
    "# mean = n * (1 - p) / p\n",
    "# variance = n * (1 - p) / p^2\n",
    "# Solving these equations gives us:\n",
    "p = predicted_means / predicted_variances \n",
    "n = (predicted_means * p)/(1-p)\n",
    "test_df['n'] = n \n",
    "test_df['p'] = p"
   ]
  },
  {
   "cell_type": "code",
   "execution_count": 28,
   "id": "8ac3b97d",
   "metadata": {},
   "outputs": [],
   "source": [
    "# Calculate probabilities\n",
    "for index, row in test_df.iterrows(): \n",
    "    line = row['Line']\n",
    "    n = row['n']\n",
    "    p =row['p']\n",
    "\n",
    "  # The cumulative distribution function (CDF) will give us P(X <= x)\n",
    "    # For P(Under), we want P(X < line), which is P(X <= line - 1) for an integer line\n",
    "    if line.is_integer():\n",
    "        test_df.loc[index, 'P(Under)'] = st.nbinom.cdf(line - 1, n, p)\n",
    "        test_df.loc[index, 'P(At)'] = st.nbinom.pmf(line, n, p)\n",
    "    else:\n",
    "        # For a non-integer line, P(Under) is P(X <= floor(line))\n",
    "        test_df.loc[index, 'P(Under)'] = st.nbinom.cdf(int(line), n, p)\n",
    "        test_df.loc[index, 'P(At)'] = 0.0\n",
    "    \n",
    "    # P(Over) is simply 1 - P(X <= line)\n",
    "    test_df.loc[index, 'P(Over)'] = 1 - st.nbinom.cdf(line, n, p)\n",
    "\n",
    "# Note: P(At) is not calculated for non-integer lines as it's always 0."
   ]
  },
  {
   "cell_type": "markdown",
   "id": "42cc58b7",
   "metadata": {},
   "source": [
    "## Step 6: Calculating EV and Stake\n",
    "\n",
    "Deciding on whether to take an over or under bet is given by comparing the expected value of etither bet and seeing which is bigger. We must account for the possibility of a push bet in our equation.\n",
    "\n",
    "The stake can be calculted using the Kelly Criterion which gives the fraction of the bankroll to bet. The Kelly Criterion gives a good balance between risk and reward.\n",
    "\n",
    "Taking the bankroll to be £1000"
   ]
  },
  {
   "cell_type": "code",
   "execution_count": 29,
   "id": "3d612902",
   "metadata": {},
   "outputs": [],
   "source": [
    "bankroll = 1000\n",
    "\n",
    "# Function to calculate expected value, including the probability of a push\n",
    "def expected_value(odds, probability_win, probability_push):\n",
    "    probability_lose = 1 - probability_win - probability_push\n",
    "    return (odds) * probability_win + probability_push - probability_lose\n",
    "\n",
    "# Function to calculate the kelly criterion\n",
    "def kelly_stake(odds, probability_win, probability_push, bankroll):\n",
    "    b = odds - 1\n",
    "    q = 1 - probability_win - probability_push  # Adjusting Q for the probability of a push\n",
    "    fraction = max(min((probability_win * b - q) / b, 1), 0)  # Fraction between 0 and 1\n",
    "    return bankroll * fraction"
   ]
  },
  {
   "cell_type": "markdown",
   "id": "ed84f8c5",
   "metadata": {},
   "source": [
    "I can then use these functions to populate the columns in test_df approrpiately."
   ]
  },
  {
   "cell_type": "code",
   "execution_count": 30,
   "id": "79887998",
   "metadata": {},
   "outputs": [
    {
     "name": "stderr",
     "output_type": "stream",
     "text": [
      "/var/folders/gp/7rlcs1qs55g_8dls4p0r9dlc0000gn/T/ipykernel_71112/2241169529.py:11: FutureWarning: Setting an item of incompatible dtype is deprecated and will raise in a future error of pandas. Value 'U' has dtype incompatible with float64, please explicitly cast to a compatible dtype first.\n",
      "  test_df.at[index, 'Bet (U/O)'] = 'U'\n"
     ]
    }
   ],
   "source": [
    "for index, row in test_df.iterrows():\n",
    "    # Calculate expected value for both over and under bets\n",
    "    ev_over = expected_value(row['Over'], row['P(Over)'], row['P(At)'])\n",
    "    ev_under = expected_value(row['Under'], row['P(Under)'], row['P(At)'])\n",
    "\n",
    "    # Decide on the bet\n",
    "    if ev_over > ev_under and ev_over > 0:\n",
    "        test_df.at[index, 'Bet (U/O)'] = 'O'\n",
    "        stake = kelly_stake(row['Over'], row['P(Over)'], row['P(At)'], bankroll)\n",
    "    elif ev_under > ev_over and ev_under > 0:\n",
    "        test_df.at[index, 'Bet (U/O)'] = 'U'\n",
    "        stake = kelly_stake(row['Under'], row['P(Under)'], row['P(At)'], bankroll)\n",
    "    else:\n",
    "        test_df.at[index, 'Bet (U/O)'] = 'No Bet'\n",
    "        stake = 0\n",
    "\n",
    "    test_df.at[index, 'Stake'] = np.round(stake,2)"
   ]
  },
  {
   "cell_type": "markdown",
   "id": "5783427f",
   "metadata": {},
   "source": [
    "The final step is to remove all the feature information from test_df and to output a final complete csv with all the requisite betting information."
   ]
  },
  {
   "cell_type": "code",
   "execution_count": 31,
   "id": "459e2bcc",
   "metadata": {},
   "outputs": [
    {
     "data": {
      "text/html": [
       "<div>\n",
       "<style scoped>\n",
       "    .dataframe tbody tr th:only-of-type {\n",
       "        vertical-align: middle;\n",
       "    }\n",
       "\n",
       "    .dataframe tbody tr th {\n",
       "        vertical-align: top;\n",
       "    }\n",
       "\n",
       "    .dataframe thead th {\n",
       "        text-align: right;\n",
       "    }\n",
       "</style>\n",
       "<table border=\"1\" class=\"dataframe\">\n",
       "  <thead>\n",
       "    <tr style=\"text-align: right;\">\n",
       "      <th></th>\n",
       "      <th>MatchId</th>\n",
       "      <th>LeagueId</th>\n",
       "      <th>Date</th>\n",
       "      <th>HomeTeamId</th>\n",
       "      <th>AwayTeamId</th>\n",
       "      <th>Line</th>\n",
       "      <th>Over</th>\n",
       "      <th>Under</th>\n",
       "      <th>P(Under)</th>\n",
       "      <th>P(At)</th>\n",
       "      <th>P(Over)</th>\n",
       "      <th>Bet (U/O)</th>\n",
       "      <th>Stake</th>\n",
       "      <th>Year</th>\n",
       "      <th>Month</th>\n",
       "      <th>DayOfWeek</th>\n",
       "      <th>HomeTeamGoalsAvg</th>\n",
       "      <th>AwayTeamGoalsAvg</th>\n",
       "      <th>AwayCornerPredict</th>\n",
       "      <th>HomeCornerPredict</th>\n",
       "      <th>TotalCornerPredict</th>\n",
       "      <th>n</th>\n",
       "      <th>p</th>\n",
       "    </tr>\n",
       "  </thead>\n",
       "  <tbody>\n",
       "    <tr>\n",
       "      <th>0</th>\n",
       "      <td>1</td>\n",
       "      <td>741</td>\n",
       "      <td>2011-04-01</td>\n",
       "      <td>342</td>\n",
       "      <td>694</td>\n",
       "      <td>9.50</td>\n",
       "      <td>1.79</td>\n",
       "      <td>1.80</td>\n",
       "      <td>0.63</td>\n",
       "      <td>0.00</td>\n",
       "      <td>0.37</td>\n",
       "      <td>U</td>\n",
       "      <td>175.82</td>\n",
       "      <td>2011</td>\n",
       "      <td>4</td>\n",
       "      <td>4</td>\n",
       "      <td>1.74</td>\n",
       "      <td>2.27</td>\n",
       "      <td>5.39</td>\n",
       "      <td>4.07</td>\n",
       "      <td>9.47</td>\n",
       "      <td>1.00</td>\n",
       "      <td>0.10</td>\n",
       "    </tr>\n",
       "    <tr>\n",
       "      <th>1</th>\n",
       "      <td>2</td>\n",
       "      <td>741</td>\n",
       "      <td>2011-04-01</td>\n",
       "      <td>1424</td>\n",
       "      <td>270</td>\n",
       "      <td>11.50</td>\n",
       "      <td>1.92</td>\n",
       "      <td>2.00</td>\n",
       "      <td>0.63</td>\n",
       "      <td>0.00</td>\n",
       "      <td>0.37</td>\n",
       "      <td>U</td>\n",
       "      <td>256.86</td>\n",
       "      <td>2011</td>\n",
       "      <td>4</td>\n",
       "      <td>4</td>\n",
       "      <td>1.97</td>\n",
       "      <td>1.24</td>\n",
       "      <td>4.81</td>\n",
       "      <td>6.81</td>\n",
       "      <td>11.63</td>\n",
       "      <td>1.00</td>\n",
       "      <td>0.08</td>\n",
       "    </tr>\n",
       "    <tr>\n",
       "      <th>2</th>\n",
       "      <td>3</td>\n",
       "      <td>729</td>\n",
       "      <td>2011-04-01</td>\n",
       "      <td>691</td>\n",
       "      <td>1137</td>\n",
       "      <td>10.50</td>\n",
       "      <td>1.97</td>\n",
       "      <td>1.87</td>\n",
       "      <td>0.61</td>\n",
       "      <td>0.00</td>\n",
       "      <td>0.39</td>\n",
       "      <td>U</td>\n",
       "      <td>170.78</td>\n",
       "      <td>2011</td>\n",
       "      <td>4</td>\n",
       "      <td>4</td>\n",
       "      <td>1.35</td>\n",
       "      <td>1.05</td>\n",
       "      <td>6.01</td>\n",
       "      <td>5.05</td>\n",
       "      <td>11.06</td>\n",
       "      <td>1.00</td>\n",
       "      <td>0.08</td>\n",
       "    </tr>\n",
       "    <tr>\n",
       "      <th>3</th>\n",
       "      <td>4</td>\n",
       "      <td>729</td>\n",
       "      <td>2011-04-01</td>\n",
       "      <td>787</td>\n",
       "      <td>808</td>\n",
       "      <td>11.00</td>\n",
       "      <td>2.08</td>\n",
       "      <td>1.77</td>\n",
       "      <td>0.63</td>\n",
       "      <td>0.03</td>\n",
       "      <td>0.33</td>\n",
       "      <td>U</td>\n",
       "      <td>199.01</td>\n",
       "      <td>2011</td>\n",
       "      <td>4</td>\n",
       "      <td>4</td>\n",
       "      <td>1.65</td>\n",
       "      <td>1.43</td>\n",
       "      <td>5.54</td>\n",
       "      <td>4.92</td>\n",
       "      <td>10.47</td>\n",
       "      <td>1.00</td>\n",
       "      <td>0.09</td>\n",
       "    </tr>\n",
       "    <tr>\n",
       "      <th>4</th>\n",
       "      <td>5</td>\n",
       "      <td>741</td>\n",
       "      <td>2011-04-01</td>\n",
       "      <td>784</td>\n",
       "      <td>1117</td>\n",
       "      <td>12.00</td>\n",
       "      <td>2.02</td>\n",
       "      <td>1.86</td>\n",
       "      <td>0.63</td>\n",
       "      <td>0.03</td>\n",
       "      <td>0.34</td>\n",
       "      <td>U</td>\n",
       "      <td>228.07</td>\n",
       "      <td>2011</td>\n",
       "      <td>4</td>\n",
       "      <td>4</td>\n",
       "      <td>3.18</td>\n",
       "      <td>1.05</td>\n",
       "      <td>4.49</td>\n",
       "      <td>7.18</td>\n",
       "      <td>11.67</td>\n",
       "      <td>1.00</td>\n",
       "      <td>0.08</td>\n",
       "    </tr>\n",
       "  </tbody>\n",
       "</table>\n",
       "</div>"
      ],
      "text/plain": [
       "   MatchId LeagueId       Date HomeTeamId AwayTeamId  Line  Over  Under  \\\n",
       "0        1      741 2011-04-01        342        694  9.50  1.79   1.80   \n",
       "1        2      741 2011-04-01       1424        270 11.50  1.92   2.00   \n",
       "2        3      729 2011-04-01        691       1137 10.50  1.97   1.87   \n",
       "3        4      729 2011-04-01        787        808 11.00  2.08   1.77   \n",
       "4        5      741 2011-04-01        784       1117 12.00  2.02   1.86   \n",
       "\n",
       "   P(Under)  P(At)  P(Over) Bet (U/O)  Stake  Year Month  DayOfWeek  \\\n",
       "0      0.63   0.00     0.37         U 175.82  2011     4          4   \n",
       "1      0.63   0.00     0.37         U 256.86  2011     4          4   \n",
       "2      0.61   0.00     0.39         U 170.78  2011     4          4   \n",
       "3      0.63   0.03     0.33         U 199.01  2011     4          4   \n",
       "4      0.63   0.03     0.34         U 228.07  2011     4          4   \n",
       "\n",
       "   HomeTeamGoalsAvg  AwayTeamGoalsAvg  AwayCornerPredict  HomeCornerPredict  \\\n",
       "0              1.74              2.27               5.39               4.07   \n",
       "1              1.97              1.24               4.81               6.81   \n",
       "2              1.35              1.05               6.01               5.05   \n",
       "3              1.65              1.43               5.54               4.92   \n",
       "4              3.18              1.05               4.49               7.18   \n",
       "\n",
       "   TotalCornerPredict    n    p  \n",
       "0                9.47 1.00 0.10  \n",
       "1               11.63 1.00 0.08  \n",
       "2               11.06 1.00 0.08  \n",
       "3               10.47 1.00 0.09  \n",
       "4               11.67 1.00 0.08  "
      ]
     },
     "execution_count": 31,
     "metadata": {},
     "output_type": "execute_result"
    }
   ],
   "source": [
    "test_df.head()"
   ]
  },
  {
   "cell_type": "code",
   "execution_count": 32,
   "id": "fdfb4a8d",
   "metadata": {},
   "outputs": [],
   "source": [
    "complete_df = test_df.drop(['Year','Month','DayOfWeek','HomeTeamGoalsAvg','AwayTeamGoalsAvg','HomeCornerPredict','AwayCornerPredict','n','p'],axis=1) \n",
    "complete_df.to_csv('Leon_Dailani_Complete_Corners_Challenge.csv',index=False)"
   ]
  }
 ],
 "metadata": {
  "kernelspec": {
   "display_name": "Python 3 (ipykernel)",
   "language": "python",
   "name": "python3"
  },
  "language_info": {
   "codemirror_mode": {
    "name": "ipython",
    "version": 3
   },
   "file_extension": ".py",
   "mimetype": "text/x-python",
   "name": "python",
   "nbconvert_exporter": "python",
   "pygments_lexer": "ipython3",
   "version": "3.11.6"
  }
 },
 "nbformat": 4,
 "nbformat_minor": 5
}
